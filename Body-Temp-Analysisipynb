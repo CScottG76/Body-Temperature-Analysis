{
 "cells": [
  {
   "cell_type": "markdown",
   "metadata": {},
   "source": [
    "# What is the True Normal Human Body Temperature? \n",
    "\n",
    "#### Background\n",
    "\n",
    "The mean normal body temperature was held to be 37$^{\\circ}$C or 98.6$^{\\circ}$F for more than 120 years since it was first conceptualized and reported by Carl Wunderlich in a famous 1868 book. But, is this value statistically correct?"
   ]
  },
  {
   "cell_type": "markdown",
   "metadata": {},
   "source": [
    "<h3>Exercises</h3>\n",
    "\n",
    "<p>In this exercise, you will analyze a dataset of human body temperatures and employ the concepts of hypothesis testing, confidence intervals, and statistical significance.</p>\n",
    "\n",
    "<p>Answer the following questions <b>in this notebook below and submit to your Github account</b>.</p> \n",
    "\n",
    "<ol>\n",
    "<li>  Is the distribution of body temperatures normal? \n",
    "    <ul>\n",
    "    <li> Although this is not a requirement for CLT to hold (read CLT carefully), it gives us some peace of mind that the population may also be normally distributed if we assume that this sample is representative of the population.\n",
    "    </ul>\n",
    "<li>  Is the sample size large? Are the observations independent?\n",
    "    <ul>\n",
    "    <li> Remember that this is a condition for the CLT, and hence the statistical tests we are using, to apply.\n",
    "    </ul>\n",
    "<li>  Is the true population mean really 98.6 degrees F?\n",
    "    <ul>\n",
    "    <li> Would you use a one-sample or two-sample test? Why?\n",
    "    <li> In this situation, is it appropriate to use the $t$ or $z$ statistic? \n",
    "    <li> Now try using the other test. How is the result be different? Why?\n",
    "    </ul>\n",
    "<li>  Draw a small sample of size 10 from the data and repeat both tests. \n",
    "    <ul>\n",
    "    <li> Which one is the correct one to use? \n",
    "    <li> What do you notice? What does this tell you about the difference in application of the $t$ and $z$ statistic?\n",
    "    </ul>\n",
    "<li>  At what temperature should we consider someone's temperature to be \"abnormal\"?\n",
    "    <ul>\n",
    "    <li> Start by computing the margin of error and confidence interval.\n",
    "    </ul>\n",
    "<li>  Is there a significant difference between males and females in normal temperature?\n",
    "    <ul>\n",
    "    <li> What test did you use and why?\n",
    "    <li> Write a story with your conclusion in the context of the original problem.\n",
    "    </ul>\n",
    "</ol>\n",
    "\n",
    "You can include written notes in notebook cells using Markdown: \n",
    "   - In the control panel at the top, choose Cell > Cell Type > Markdown\n",
    "   - Markdown syntax: http://nestacms.com/docs/creating-content/markdown-cheat-sheet\n",
    "\n",
    "#### Resources\n",
    "\n",
    "+ Information and data sources: http://www.amstat.org/publications/jse/datasets/normtemp.txt, http://www.amstat.org/publications/jse/jse_data_archive.htm\n",
    "+ Markdown syntax: http://nestacms.com/docs/creating-content/markdown-cheat-sheet\n",
    "\n",
    "****"
   ]
  },
  {
   "cell_type": "code",
   "execution_count": 1,
   "metadata": {
    "collapsed": true
   },
   "outputs": [],
   "source": [
    "# Import libraries\n",
    "import pandas as pd\n",
    "import numpy as np\n",
    "import matplotlib.pyplot as plt\n",
    "import seaborn as sns\n",
    "\n",
    "sns.set()\n",
    "\n",
    "df = pd.read_csv('data/human_body_temperature.csv')\n",
    "\n"
   ]
  },
  {
   "cell_type": "code",
   "execution_count": 2,
   "metadata": {},
   "outputs": [
    {
     "data": {
      "text/html": [
       "<div>\n",
       "<style>\n",
       "    .dataframe thead tr:only-child th {\n",
       "        text-align: right;\n",
       "    }\n",
       "\n",
       "    .dataframe thead th {\n",
       "        text-align: left;\n",
       "    }\n",
       "\n",
       "    .dataframe tbody tr th {\n",
       "        vertical-align: top;\n",
       "    }\n",
       "</style>\n",
       "<table border=\"1\" class=\"dataframe\">\n",
       "  <thead>\n",
       "    <tr style=\"text-align: right;\">\n",
       "      <th></th>\n",
       "      <th>temperature</th>\n",
       "      <th>gender</th>\n",
       "      <th>heart_rate</th>\n",
       "    </tr>\n",
       "  </thead>\n",
       "  <tbody>\n",
       "    <tr>\n",
       "      <th>0</th>\n",
       "      <td>99.3</td>\n",
       "      <td>F</td>\n",
       "      <td>68.0</td>\n",
       "    </tr>\n",
       "    <tr>\n",
       "      <th>1</th>\n",
       "      <td>98.4</td>\n",
       "      <td>F</td>\n",
       "      <td>81.0</td>\n",
       "    </tr>\n",
       "    <tr>\n",
       "      <th>2</th>\n",
       "      <td>97.8</td>\n",
       "      <td>M</td>\n",
       "      <td>73.0</td>\n",
       "    </tr>\n",
       "    <tr>\n",
       "      <th>3</th>\n",
       "      <td>99.2</td>\n",
       "      <td>F</td>\n",
       "      <td>66.0</td>\n",
       "    </tr>\n",
       "    <tr>\n",
       "      <th>4</th>\n",
       "      <td>98.0</td>\n",
       "      <td>F</td>\n",
       "      <td>73.0</td>\n",
       "    </tr>\n",
       "  </tbody>\n",
       "</table>\n",
       "</div>"
      ],
      "text/plain": [
       "   temperature gender  heart_rate\n",
       "0         99.3      F        68.0\n",
       "1         98.4      F        81.0\n",
       "2         97.8      M        73.0\n",
       "3         99.2      F        66.0\n",
       "4         98.0      F        73.0"
      ]
     },
     "execution_count": 2,
     "metadata": {},
     "output_type": "execute_result"
    }
   ],
   "source": [
    "df.head()"
   ]
  },
  {
   "cell_type": "code",
   "execution_count": 3,
   "metadata": {
    "collapsed": true
   },
   "outputs": [],
   "source": [
    "# Setting arrays for analysis:  full temperature set, men's temperatures, and women's temperatures\n",
    "temps = np.asarray(df['temperature'])\n",
    "mtemps = np.asarray(df.loc[df['gender']=='M','temperature'])\n",
    "ftemps = np.asarray(df.loc[df['gender']=='F','temperature'])\n",
    "\n",
    "# Calculate summary statistics of temperature data\n",
    "temps_mn = np.mean(temps)\n",
    "temps_md = np.median(temps)\n",
    "temps_sd = np.std(temps)"
   ]
  },
  {
   "cell_type": "code",
   "execution_count": 4,
   "metadata": {
    "collapsed": true
   },
   "outputs": [],
   "source": [
    "# Define function for computer ECDF data returning x,y values\n",
    "def ecdf(data):\n",
    "    \"\"\"Compute ECDF for a one-dimensional array of measurements.\"\"\"\n",
    "\n",
    "    n = len(data)\n",
    "    x = np.sort(data)\n",
    "    y = np.arange(1, n+1) / n\n",
    "    \n",
    "    return x,y"
   ]
  },
  {
   "cell_type": "code",
   "execution_count": 5,
   "metadata": {},
   "outputs": [
    {
     "data": {
      "image/png": "[encoded data removed]",
      "text/plain": [
       "<matplotlib.figure.Figure at 0x113656438>"
      ]
     },
     "metadata": {},
     "output_type": "display_data"
    },
    {
     "name": "stdout",
     "output_type": "stream",
     "text": [
      "Mean =  98.2492307692\n",
      "Median[data] =  98.3\n"
     ]
    }
   ],
   "source": [
    "# Sample out a normal distribution of mean & standard deviation of data.\n",
    "test_samp = np.random.normal(temps_mn, temps_sd, size=10000)\n",
    "\n",
    "# Assign normal distribution data to appropriate variables for plotting: x_test, y_test\n",
    "x_test,y_test = ecdf(test_samp)\n",
    "\n",
    "# Assign body temperature data to appropriate variables for plotting: x, y\n",
    "x,y = ecdf(temps)\n",
    "\n",
    "# Plot temperature CDF with overlay of normal distribution CDF.\n",
    "_ = plt.plot(x_test, y_test)\n",
    "_ = plt.plot(x, y, marker='.', linestyle='none')\n",
    "_ = plt.xlabel('Body temperature (F)')\n",
    "_ = plt.ylabel('CDF')\n",
    "\n",
    "# Plot reference lines\n",
    "plt.axvline(x=temps_mn, color='red', linewidth = 0.25)\n",
    "plt.axhline(y=0.5, color='red', linewidth = 0.25)\n",
    "\n",
    "plt.margins(0.02)\n",
    "plt.show()\n",
    "\n",
    "print('Mean = ',temps_mn)\n",
    "print('Median[data] = ', temps_md)"
   ]
  },
  {
   "cell_type": "markdown",
   "metadata": {},
   "source": [
    "\n",
    "<h6> 1. Is the distribution of body temperatures normal?</h6>\n",
    "<p>Observing the CDF plot suggests the sample data closely approximate a normal distribution.  Furthermore, the close alignment of mean and median suggest an approximately symmetrical distribution of data.  The combination of summary statistic data and CDF suggest the data can be treated as a normal distribution.\n",
    "</p>\n",
    "<h6> 2. Is the sample size large?  Are the observations independent?</h6>\n",
    "<p>Given the approximation of a normal distribution, and a sample size n > 30, CLT is applicable.  Sample data is considered large enough and a reasonably distributed representation of the population.  Samples appear to be drawn randomly and provide no information to either previous or subsequent samples.  Samples are, therefore, considered independent. </p>\n",
    "\n",
    "<h6> 3. Is the true population mean really 98.6 degrees F?</h6>\n",
    "<p>The mean of observations (98.25 degrees F) differ from the conventionally accepted 98.6 degrees F.  Based on summary statistic data, and the consideration of the sample as representative of the population, it is reasonable to suggest 98.6 degrees F is not the true mean.</p>\n",
    "\n",
    "<p>This can be tested by testing the null hypothesis: </p>\n",
    "\n",
    "$$H_0: \\mu = \\mu_0$$\n",
    "\n",
    "<p>The alternate hypothesis: \n",
    "$$H_A: \\mu \\ne \\mu_0$$\n",
    "\n",
    "<p>Three methods will be applied: \n",
    "<ul><b>Bootstrap</b> - this method applies resampling to simulate data collection.  Test statistics are measured to determine percentage of simulated tests that are at least as extreme as the data.  The test statistic that will be used is the empirical difference between the mean values.</ul>\n",
    "\n",
    "<ul><b>z-test</b> - this method is ideal given a normal distribution, sample size n > 30, and when the standard deviation ($\\theta$) of the population is known.  In this case, given the assumption that the sample size and distribution is n > 30 and considered normal, $\\theta_{sample}$ will be used.  It should be noted that treating $\\theta_{sample}$ as $\\theta_{population}$ could produce inaccurate results.</ul>\n",
    "\n",
    "<ul><b>t-test</b> - this method is generally used when the sample size is n < 30, or when $\\theta$ is known for the sample but not the population.  In this case, given $\\theta_{sample}$, this method is likely more appropriate for the hypothesis test.</ul>\n",
    "\n",
    "<p><b>NOTE</b>: Given a single set of data to compare to a mean (without data), all three methods will employ one sample tests. </p> \n"
   ]
  },
  {
   "cell_type": "code",
   "execution_count": 6,
   "metadata": {},
   "outputs": [
    {
     "name": "stdout",
     "output_type": "stream",
     "text": [
      "p-value =  0.0\n"
     ]
    }
   ],
   "source": [
    "# Preparing for bootsrap test.\n",
    "bt_value = 98.6\n",
    "bt_shifted = temps - np.mean(temps) + bt_value\n",
    "\n",
    "# Define functions for bootstrap test.\n",
    "def diff_from_bt(data, bt_value=98.6):\n",
    "    return np.mean(data) - bt_value\n",
    "\n",
    "def bootstrap_replicate_1d(data,func):\n",
    "    \"\"\"Generate bootstrap replicate of 1D data\"\"\"\n",
    "    bs_sample = np.random.choice(data, len(data))\n",
    "    \n",
    "    return func(bs_sample)\n",
    "\n",
    "def draw_bs_reps(data, func, size=1):\n",
    "    \"\"\"Draw boostrap replicates\"\"\"\n",
    "    \n",
    "    bs_replicates = np.empty(size)\n",
    "    \n",
    "    for i in range(size):\n",
    "        bs_replicates[i] = bootstrap_replicate_1d(data, func)\n",
    "    \n",
    "    return bs_replicates\n",
    "\n",
    "diffs = diff_from_bt(temps, bt_value)\n",
    "bs_replicates = draw_bs_reps(bt_shifted, diff_from_bt, 10000)\n",
    "\n",
    "p = np.sum(bs_replicates <= diffs) / len(bs_replicates)\n",
    "\n",
    "print('p-value = ',p)"
   ]
  },
  {
   "cell_type": "code",
   "execution_count": 7,
   "metadata": {},
   "outputs": [
    {
     "name": "stdout",
     "output_type": "stream",
     "text": [
      "(-5.4759252020785585, 2.1761575829356528e-08)\n",
      "-5.45482329236 2.41063204156e-07\n"
     ]
    }
   ],
   "source": [
    "# z-test and t-test\n",
    "# Import library\n",
    "import scipy.stats as st\n",
    "\n",
    "# Define function for 1 sample z-test.\n",
    "def ztst_1samp(data, value=1):\n",
    "    \"\"\"Performs a one sample z-test, returning z-score and p-value\"\"\"\n",
    "    z = (np.mean(data) - value) / (np.std(data) / np.sqrt(len(data))) \n",
    "    \n",
    "    if np.mean(data) >= value:\n",
    "        p = st.norm.cdf(-z)\n",
    "    \n",
    "    else:\n",
    "        p = st.norm.cdf(z)\n",
    "    \n",
    "    return z,p\n",
    "\n",
    "z = ztst_1samp(temps,98.6)\n",
    "print(z)\n",
    "\n",
    "t,p = st.ttest_1samp(temps, 98.6)\n",
    "print(t,p)\n",
    "\n"
   ]
  },
  {
   "cell_type": "markdown",
   "metadata": {},
   "source": [
    "<p>Given a one sample test, and determining the t-test most appropriate, the confidence interval and margin of error will be calculated with the formula:   \n",
    "$$CI = \\bar{x} \\pm t*_{n-1} \\left( \n",
    "\\frac{s}{\\sqrt{n}}\\right),  {where}\\space\n",
    "{t*_{n-1}}$$"
   ]
  },
  {
   "cell_type": "code",
   "execution_count": 8,
   "metadata": {},
   "outputs": [
    {
     "name": "stdout",
     "output_type": "stream",
     "text": [
      "-5.45482329236 2.41063204156e-07\n",
      "(0.12555096480257902, (98.123679804428164, 98.374781734033334))\n",
      "94.2652581451\n",
      "[ 96.7225  99.4775]\n"
     ]
    },
    {
     "data": {
      "text/plain": [
       "0.73035777890503795"
      ]
     },
     "execution_count": 8,
     "metadata": {},
     "output_type": "execute_result"
    }
   ],
   "source": [
    "def t_merci_1samp(ci_val, data):\n",
    "    \n",
    "    x = np.mean(data)\n",
    "    s = np.std(data)\n",
    "    top =  s\n",
    "    bottom = np.sqrt(len(data))\n",
    "    merr = top / bottom\n",
    "    xmerr = merr * ci_val\n",
    "    ci = ((x - xmerr, x + xmerr))\n",
    "    \n",
    "    \n",
    "    return xmerr, ci\n",
    "\n",
    "t,p = st.ttest_1samp(temps, 98.6)\n",
    "print(t,p)\n",
    "\n",
    "mer_ci = t_merci_1samp(1.96, temps)\n",
    "\n",
    "print(mer_ci)\n",
    "print(np.mean(temps) + (np.std(temps))*t)\n",
    "print(np.percentile(temps, [2.5,97.5]))\n",
    "np.std(temps)"
   ]
  },
  {
   "cell_type": "markdown",
   "metadata": {},
   "source": [
    "<p>Under all three test methods, p-values are virtually zero and indicate rejection of the null hypothesis that the true mean body temperature is 98.6 degrees F. </p>\n",
    "\n",
    "<p>Given a one sample test, and determining the t-test most appropriate, the confidence interval and margin of error were calculated by: </p>\n",
    "\n",
    "$$CI = \\bar{x} \\pm t*_{n-1} \\left( \n",
    "\\frac{s}{\\sqrt{n}}\\right),  {where}\\space\n",
    "{t*_{n-1}}$$\n",
    "\n",
    "<p>Accounting for the margin of error, the mean body temperature can be considered, with 95% confidence, to be 98.1 - 98.4 degrees F, also rejecting the null hypothesis.</p>  "
   ]
  },
  {
   "cell_type": "code",
   "execution_count": 9,
   "metadata": {},
   "outputs": [
    {
     "data": {
      "image/png": "[encoded data removed]",
      "text/plain": [
       "<matplotlib.figure.Figure at 0x115691470>"
      ]
     },
     "metadata": {},
     "output_type": "display_data"
    },
    {
     "name": "stdout",
     "output_type": "stream",
     "text": [
      "10 sample mean:  98.11\n",
      "10 sample st.dev:  0.476340214553\n",
      "10 sample median:  98.05\n"
     ]
    },
    {
     "data": {
      "text/plain": [
       "array([ 97.9,  98.8,  98.6,  97. ,  98. ,  98.6,  98.1,  98. ,  98.1,  98. ])"
      ]
     },
     "execution_count": 9,
     "metadata": {},
     "output_type": "execute_result"
    }
   ],
   "source": [
    "temps_10tot = np.random.choice(temps,10)\n",
    "mn10 = np.mean(temps_10tot)\n",
    "sd10 = np.std(temps_10tot)\n",
    "\n",
    "# Sample out a normal distribution of mean & standard deviation of data.\n",
    "test_samp = np.random.normal(mn10, sd10, size=10000)\n",
    "\n",
    "# Assign normal distribution data to appropriate variables for plotting: x_test, y_test\n",
    "x_test,y_test = ecdf(test_samp)\n",
    "\n",
    "# Assign body temperature data to appropriate variables for plotting: x, y\n",
    "x,y = ecdf(temps_10tot)\n",
    "\n",
    "# Plot temperature CDF with overlay of normal distribution CDF.\n",
    "_ = plt.plot(x_test, y_test)\n",
    "_ = plt.plot(x, y, marker='.')\n",
    "_ = plt.xlabel('Body temperature (F)')\n",
    "_ = plt.ylabel('CDF')\n",
    "\n",
    "# Plot reference lines\n",
    "plt.axvline(x=temps_mn, color='red', linewidth = 0.25)\n",
    "plt.axhline(y=0.5, color='red', linewidth = 0.25)\n",
    "\n",
    "plt.margins(0.02)\n",
    "plt.show()\n",
    "\n",
    "print('10 sample mean: ',mn10)\n",
    "print('10 sample st.dev: ',sd10)\n",
    "print('10 sample median: ', np.median(temps_10tot))\n",
    "temps_10tot\n",
    "\n"
   ]
  },
  {
   "cell_type": "code",
   "execution_count": 10,
   "metadata": {},
   "outputs": [
    {
     "name": "stdout",
     "output_type": "stream",
     "text": [
      "10 sample t-stat:  -3.08602959626   p-value:  0.0130126268502\n",
      "10 sample z-stat:  -3.25296081696   p-value:  0.000571046223435\n",
      "margin of error:  0.340428324321   mean conf.int:  (97.769571675679003, 98.450428324320995)\n"
     ]
    }
   ],
   "source": [
    "t_10s, p_10s = st.ttest_1samp(temps_10tot, 98.6)\n",
    "z_10s = ztst_1samp(temps_10tot, 98.6)\n",
    "\n",
    "mer_ci2 = t_merci_1samp(2.26, temps_10tot)\n",
    "\n",
    "print('10 sample t-stat: ',t_10s, '  p-value: ',p_10s)\n",
    "print('10 sample z-stat: ',z_10s[0], '  p-value: ',z_10s[1])\n",
    "print('margin of error: ',mer_ci2[0], '  mean conf.int: ', mer_ci2[1])"
   ]
  },
  {
   "cell_type": "markdown",
   "metadata": {},
   "source": [
    "<h6><b>4. Draw a small sample size of 10 from the data and repeat both tests. </b></h6>\n",
    "\n",
    "$$H_0: \\mu = \\mu_0$$ \n",
    "$$H_A: \\mu \\ne \\mu_0$$\n",
    "\n",
    "<p>The p-values of both tests provide that the null hypothesis should be rejected.  Furthermore, given the hypothesized mean falls outside the margin of error, evidence supports rejecting the null hypothesis. </p>\n",
    "\n",
    "<p>Points of note:\n",
    "<ul>\n",
    "<li>Observing the plot of the data demonstrates a poor fit to the CDF.  Applying CLT and having observed the closer fit to the CDF plot with a higher number of samples, it becomes obvious that the sample size is not large.  As this is a condition of CLT, the conclusions drawn from this sample set are suspect.</ul>\n",
    "<ul>\n",
    "<li>Summary statistics demonstrate a mean lower than the larger data set, however, the observing the close alignment between the mean and median suggests that, although the 10 samples do not fit a normal distribution, they approximate symmetry.  This may indicate difficulty applying CLT because the sample is small. </ul>\n",
    "<ul>\n",
    "<li>Given the lower number of samples the t-test is appropriate.  Additionally, the p-value associated with the t-test indicates a higher probability of finding observed, or more extreme, results of the null hypothesis.  As opposed to the z-statistic, the t-statistic appears less spread out.  This contrast with normal t and z distributions likely exists given the small sample size and abnormal distribution.  It further provides that the t-test would be the more appropriate test for this sampling.    "
   ]
  },
  {
   "cell_type": "code",
   "execution_count": 11,
   "metadata": {
    "scrolled": true
   },
   "outputs": [
    {
     "data": {
      "image/png": "[encoded data removed]",
      "text/plain": [
       "<matplotlib.figure.Figure at 0x1156fdeb8>"
      ]
     },
     "metadata": {},
     "output_type": "display_data"
    },
    {
     "name": "stdout",
     "output_type": "stream",
     "text": [
      "Mean :  98.2492307692     Margin of error:  0.125550964803\n",
      "2SD :                      ( 96.6629642466 ,  99.8354972918 )\n",
      "Percentiles (2.5 , 97.5) : ( 96.7225       ,  99.4775 )\n",
      "Normal temperature range : ( 96.5969490352 ,  99.6030509648 )\n"
     ]
    }
   ],
   "source": [
    "import pylab as p\n",
    "\n",
    "lower = np.percentile(temps, 2.5) - mer_ci[0]\n",
    "upper = np.percentile(temps,97.5) + mer_ci[0]\n",
    "sd2lw = temps_mn - temps_sd * 2\n",
    "sd2hg = temps_mn + temps_sd * 2\n",
    "sd2lw_adj = temps_mn - mer_ci[0] - temps_sd * 2\n",
    "sd2hg_adj = temps_mn + mer_ci[0] + temps_sd * 2\n",
    "\n",
    "# Sample out a normal distribution of mean & standard deviation of data.\n",
    "test_samp = np.random.normal(temps_mn, temps_sd, size=10000)\n",
    "\n",
    "# Assign normal distribution data to appropriate variables for plotting: x_test, y_test\n",
    "x_test,y_test = ecdf(test_samp)\n",
    "\n",
    "# Assign body temperature data to appropriate variables for plotting: x, y\n",
    "x,y = ecdf(temps)\n",
    "\n",
    "# Plot temperature CDF with overlay of normal distribution CDF.\n",
    "_ = plt.plot(x_test, y_test, color='black', alpha = 0.5)\n",
    "_ = plt.plot(x, y, marker='.', linestyle='none', color='purple')\n",
    "_ = plt.xlabel('Body temperature (F)')\n",
    "_ = plt.ylabel('CDF')\n",
    "\n",
    "# Plot reference lines\n",
    "plt.axhline(y=0.025, color='maroon', linewidth = 0.5)\n",
    "plt.axhline(y=0.975, color='maroon', linewidth = 0.5)\n",
    "plt.axvline(x=sd2lw, color='cyan', linewidth = 0.5)\n",
    "plt.axvline(x=sd2hg, color='cyan', linewidth = 0.5)\n",
    "plt.axvline(x=sd2lw_adj, color='magenta', linewidth = 0.5)\n",
    "plt.axvline(x=sd2hg_adj, color='magenta', linewidth = 0.5)\n",
    "\n",
    "plt.fill_between(x_test[:160],y_test[:160],color='red', alpha=0.25)\n",
    "plt.fill_between(x_test[161:9876],y_test[161:9876], color='green', alpha=0.25)\n",
    "plt.fill_between(x_test[9877:],y_test[9877:], color='red', alpha=0.25)\n",
    "\n",
    "plt.margins(0.02)\n",
    "plt.show()\n",
    "\n",
    "print('Mean : ',temps_mn, '    Margin of error: ', mer_ci[0])\n",
    "print('2SD :                      (',temps_mn - mer_ci[0] - temps_sd * 2, ', ', temps_mn + mer_ci[0] + temps_sd * 2,')')\n",
    "print('Percentiles (2.5 , 97.5) : (', np.percentile(temps, 2.5),'      , ', np.percentile(temps,97.5),')')\n",
    "print('Normal temperature range : (',lower,', ',upper,')')\n"
   ]
  },
  {
   "cell_type": "markdown",
   "metadata": {},
   "source": [
    "<h6><b> 5. At what temperature should we consider someone's temperature to be \"abnormal\"?</b></h6>\n",
    "\n",
    "<p>Observing the CDF above, horizontal maroon lines indicate percentile divisions at 2.5% and 97.5%.  In short, 95% of the temperature data (purple) are plotted between the maroon horizontal lines.  The percentiles calculated from the data indicate that 95% of the temperature observations were 96.7-99.5 degrees F.  Adjusted for margin of error, the 2SD calculations indicate closely aligned values.</p>\n",
    "\n",
    "<p> Theoretical 2.5th and 97.5th percentiles, shaded in red closely align with the lines representing the 2SD plots of the data.  Additionally, 95% of theoretical values, in the green shaded area, also demonstrate the range of expected values for body temperature.</p>\n",
    "\n",
    "<p> Given both theoretical and actual data and adjusting for a margin of error, with 95% confidence, the temperature range 96.6-99.6 degrees F would be considered normal body temperature.  Temperatures outside this range may be considered abnormal, but possibly naturally occuring given the data.</p>"
   ]
  },
  {
   "cell_type": "code",
   "execution_count": 12,
   "metadata": {},
   "outputs": [
    {
     "name": "stdout",
     "output_type": "stream",
     "text": [
      "Mean temp.  male:  98.1046153846    female:  98.3938461538\n",
      "Std. dev.   male:  0.693359884183   female:  0.737746448643\n",
      "Median      male:  98.1             female:  98.4\n",
      "Sample size male:  65               female:  65\n"
     ]
    }
   ],
   "source": [
    "mtemps_mn = np.mean(mtemps)\n",
    "mtemps_sd = np.std(mtemps)\n",
    "mtemps_md = np.median(mtemps)\n",
    "\n",
    "ftemps_mn = np.mean(ftemps)\n",
    "ftemps_sd = np.std(ftemps)\n",
    "ftemps_md = np.median(ftemps)\n",
    "\n",
    "print('Mean temp.  male: ',mtemps_mn,'   female: ',ftemps_mn)\n",
    "print('Std. dev.   male: ',mtemps_sd,'  female: ',ftemps_sd)\n",
    "print('Median      male: ',mtemps_md,'            female: ',ftemps_md)\n",
    "print('Sample size male: ',len(mtemps),'              female: ',len(ftemps))"
   ]
  },
  {
   "cell_type": "markdown",
   "metadata": {},
   "source": [
    "<h6><b>6. Is there a significant difference between males and females in normal temperature?</b></h6>\n",
    "\n",
    "<p>Observing summary statistics for both males and females, it appears that mean and median for both sets closely align.  Additionally, CLT applies with the sample sizes (n > 30).  Noting similarities to the larger data set from which these sets were derived, summary data of both sets suggests approximation of a normal distributions.</p>\n",
    "\n",
    "<p>That said, the appropriate test would be a two sample z-test.</p>\n",
    "\n",
    "$$z = \\frac{\\left( \\mu_m - \\mu_f \\right) - \\Delta_{H_0}}{\\sqrt{\\left( \\frac{{\\theta_m}^2}{n_m} + \\frac{{\\theta_f}^2}{n_f}\\right)}}$$\n",
    "\n",
    "<p>Additionally, given two data sets, a permutation test may also be appropriate.  Both will be used to test the hypothesis:</p>\n",
    "\n",
    "$$H_0: \\mu_m = \\mu_f$$ \n",
    "$$H_A: \\mu_m \\ne \\mu_f$$\n"
   ]
  },
  {
   "cell_type": "code",
   "execution_count": 13,
   "metadata": {
    "collapsed": true
   },
   "outputs": [],
   "source": [
    "def ztst_2samp(data1, data2, h_0):\n",
    "    \"\"\"Performs a one sample z-test, returning z-score and p-value\"\"\"\n",
    "    \n",
    "    d1m, d1s, d1n = np.mean(data1), np.std(data1)**2, len(data1)\n",
    "    d2m, d2s, d2n = np.mean(data2), np.std(data2)**2, len(data2)\n",
    "    \n",
    "    top = d1m - d2m - h_0 \n",
    "    bottom = d1s**2 / d1n + d2s**2 / d2n\n",
    "    \n",
    "    z = top / np.sqrt(bottom)\n",
    "    \n",
    "    if d1m >= d2m:\n",
    "        p = st.norm.cdf(-z)\n",
    "    \n",
    "    else:\n",
    "        p = st.norm.cdf(z)\n",
    "    \n",
    "    return z,p"
   ]
  },
  {
   "cell_type": "code",
   "execution_count": 14,
   "metadata": {},
   "outputs": [
    {
     "name": "stdout",
     "output_type": "stream",
     "text": [
      "p-value =  0.000661163345897\n"
     ]
    }
   ],
   "source": [
    "#Perform z test and print p-value\n",
    "z = ztst_2samp(mtemps, ftemps, 0)\n",
    "\n",
    "print('p-value = ',z[1])"
   ]
  },
  {
   "cell_type": "code",
   "execution_count": 15,
   "metadata": {
    "collapsed": true
   },
   "outputs": [],
   "source": [
    "def z_merci(z_conf_int, data1, data2):\n",
    "    full = np.concatenate((data1, data2))\n",
    "    prop = len(data1)/ len(full)\n",
    "    propi = 1 - prop\n",
    "    prop2 = len(data2) / len(full)\n",
    "    cal = prop * propi / len(full)\n",
    "     \n",
    "    m_err = z_conf_int * np.sqrt(cal)\n",
    "    c_int = (np.mean(data1) - np.mean(data2)) + np.array([-1,1]) * m_err\n",
    "    \n",
    "    if prop + prop2 == 1 and propi * len(data1) >= 10 and prop * len(data1) >=10:\n",
    "        x = 'check'\n",
    "    else:\n",
    "        x = 'verify'\n",
    "    \n",
    "    return m_err, c_int, x\n",
    "        "
   ]
  },
  {
   "cell_type": "code",
   "execution_count": 16,
   "metadata": {},
   "outputs": [
    {
     "name": "stdout",
     "output_type": "stream",
     "text": [
      "margin of error:  0.0859516858921\n",
      "confidence interval : ( 97.7294329295 ,  98.307894468 )\n",
      "z-score : -3.21108966273\n"
     ]
    },
    {
     "data": {
      "text/plain": [
       "'check'"
      ]
     },
     "execution_count": 16,
     "metadata": {},
     "output_type": "execute_result"
    }
   ],
   "source": [
    "merr = z_merci(1.96, mtemps, ftemps)\n",
    "\n",
    "print('margin of error: ',merr[0])\n",
    "print('confidence interval : (',mtemps_mn + merr[1][0],', ',mtemps_mn - merr[1][1],')')\n",
    "print('z-score :',z[0])\n",
    "merr[2]"
   ]
  },
  {
   "cell_type": "code",
   "execution_count": 17,
   "metadata": {},
   "outputs": [
    {
     "data": {
      "text/plain": [
       "False"
      ]
     },
     "execution_count": 17,
     "metadata": {},
     "output_type": "execute_result"
    }
   ],
   "source": [
    "#Boolean test to determine if means are equal with margin of error\n",
    "ftemps_mn == mtemps_mn - merr[1][1]"
   ]
  },
  {
   "cell_type": "code",
   "execution_count": 18,
   "metadata": {},
   "outputs": [
    {
     "data": {
      "text/plain": [
       "False"
      ]
     },
     "execution_count": 18,
     "metadata": {},
     "output_type": "execute_result"
    }
   ],
   "source": [
    "#Boolean test to determine if the mean for men is greater than women's with margin of error\n",
    "ftemps_mn < mtemps_mn - merr[1][1]"
   ]
  },
  {
   "cell_type": "code",
   "execution_count": 19,
   "metadata": {},
   "outputs": [
    {
     "data": {
      "text/plain": [
       "True"
      ]
     },
     "execution_count": 19,
     "metadata": {},
     "output_type": "execute_result"
    }
   ],
   "source": [
    "#Boolean test to determine if the mean for women is greater than men's with margin of error\n",
    "ftemps_mn > mtemps_mn - merr[1][1]"
   ]
  },
  {
   "cell_type": "markdown",
   "metadata": {},
   "source": [
    "<p>Given a p-value very close to zero, evidence is given to reject the null hypothesis.  Further evaluation of the margin of error and confidence intervals demonstrate, with 95% confidence, male body temperature nearing the mean of the female body temperature.  A closer look indicates that the mean female body temperature falls outside the margin of error and provides further evidence to reject the null hypothesis.</p>\n",
    "\n",
    "<p>With two data sets, a permutation test may be useful to test the hypothesis.</p>"
   ]
  },
  {
   "cell_type": "code",
   "execution_count": 20,
   "metadata": {
    "collapsed": true
   },
   "outputs": [],
   "source": [
    "def diff_of_means(data_1, data_2):\n",
    "    \"\"\"Difference in means of two arrays\"\"\"\n",
    "    \n",
    "    diff = np.mean(data_1) - np.mean(data_2)\n",
    "    \n",
    "    return diff\n",
    "\n",
    "def permutation_sample(data1, data2):\n",
    "    \"\"\"Generate a permutation sample from two data sets\"\"\"\n",
    "    \n",
    "    data = np.concatenate((data1, data2))\n",
    "    permuted_data = np.random.permutation(data)\n",
    "    perm_sample_1 = permuted_data[:len(data1)]\n",
    "    perm_sample_2 = permuted_data[len(data1):]\n",
    "    \n",
    "    return perm_sample_1, perm_sample_2\n",
    "\n",
    "def draw_perm_reps(data_1, data_2, func, size=1):\n",
    "    \"\"\"Generate multipl permutation replicates\"\"\"\n",
    "    \n",
    "    perm_replicates = np.empty(size)\n",
    "    \n",
    "    for i in range(size):\n",
    "        perm_sample_1, perm_sample_2 = permutation_sample(data_1, data_2)\n",
    "        perm_replicates[i] = func(perm_sample_1, perm_sample_2)\n",
    "        \n",
    "    return perm_replicates\n",
    "\n"
   ]
  },
  {
   "cell_type": "code",
   "execution_count": 21,
   "metadata": {},
   "outputs": [
    {
     "name": "stdout",
     "output_type": "stream",
     "text": [
      "p-value:  0.0147\n",
      "empirical difference of means:  -0.289230769231\n",
      "95% confidence interval:  [-0.25230769  0.25238462]\n"
     ]
    }
   ],
   "source": [
    "# Calculate empirical difference of means\n",
    "empirical_diff_means = diff_of_means(mtemps, ftemps)\n",
    "\n",
    "# Draw 10000 permutation replicates\n",
    "perm_replicates = draw_perm_reps(mtemps, ftemps, diff_of_means, size=10000)\n",
    "\n",
    "# Calculate & print p-value\n",
    "p = np.sum(perm_replicates <= empirical_diff_means) / len(perm_replicates)\n",
    "\n",
    "\n",
    "print('p-value: ', p)\n",
    "print('empirical difference of means: ',empirical_diff_means)\n",
    "print('95% confidence interval: ', np.percentile(perm_replicates, [2.5, 97.5]))\n"
   ]
  },
  {
   "cell_type": "markdown",
   "metadata": {},
   "source": [
    "Although the higher p-value demonstrates that, in some instances, finding observations at least as extreme as the data was possible in the simulation, it fails to provide enough evidence to support the null hypothesis.  Given the observed difference of mean temperature falls outside the 95% confidence interval, it is reasonable to reject the null hypothesis in favor of concluding that the true mean male body temperature does not equal the true mean female body temperature."
   ]
  },
  {
   "cell_type": "markdown",
   "metadata": {},
   "source": [
    "<h3><b>Summary</b></h3>\n",
    "\n",
    "<p>In this exercise, observations from Carl Wunderlich's study on normal body temperature were the subject of exploration.  Statistical concepts of hypothesis testing, confidence intervals, and statistical significance were utilized in the analysis of data in order to answer questions concerning Wunderlich's conclusions.  One question of note:  Is the true population mean really 98.6 degrees F? </p>\n",
    "\n",
    "<p>Exploration began with determining if the data fit a normal distribution.  Summarizing Central Limit Theorem (CLT), as the number of observations gets larger, the distribution of data becomes more normally distributed.  This is important because, if the sample data (i.e. mean, standard deviation, etc) is normally distributed, it can be deemed representative of the population.  Consequently, conclusions drawn from normally distributed data are likely to apply to the population.</p>\n",
    "\n",
    "<p>If the body temperature data is plotted over a normal distribution, it should align if it is normally distributed.  For this to work, the normal distribution key, should have the same parameters (mean, standard deviation, etc) of the data.  To get this key, 10,000 samples were simulated and plotted with the actual sample data.  While not perfect, the alignment was such that the data could be treated as a normal distribution.  Since one person's body temperature generally doesn't determine anothers, each observation could be assumed independent.  Given the disbribution, the sample size could be considered large, meeting conditions of CLT.</p>\n",
    "\n",
    "<p>The sample mean, however, was 98.25 degrees F; quite different from Wunderlich's value (98.6$^{\\circ}$F).  Perhaps it's because the true mean encompasses a much larger set of data.  However, if the distribution is normal, the mean calculated should be representative.  This difference can be tested through hypothesis testing methods.  Stating a clear hypothesis is important.  For these tests, the hypothesis is that the true mean is not 98.6 degrees F.  This is testable through a null hypothesis:  The true mean is 98.6 degrees F.</p>\n",
    "\n",
    "<p>What the null hypothesis is saying is that if more observations were collected, the mean would eventually become reach Wunderlich's value.  Since two samples cannot be tested against each other, a one sample test is used.  The test methods used were Bootstrap, t-test, and z-test.  Each test involves analyzing the distribution and calculating a p-value that represents the probability that simulated findings would observe at least the extreme observed in the data.</p>\n",
    "\n",
    "<p> Generally, the most appropriate testing method would be used rather than three tests.  In this case, it could be argued that the most appropriate test method is the t-test rather than the z-test.  This is because the population standard deviation is not known.  The argument can be made that if the data are representative, then the standard deviation could be considered representative as well.  That would allow the z-test to be utilized.  Given the larger sample size, the z-test would be preferable over the t-test.  This exercise, however, is about exploration of statistical methods and their findings.  All three testing methods produced findings that suggested rejection of the null hypothesis.  In other words, based on the testing the true mean body temperature is NOT 98.6 degrees F.</p>\n",
    "\n",
    "\n",
    "<p>Further exploring testing methods, a random sample of 10 observations was taken from the body temperature data.  In this case, given the small smaple size, applying the z-test is inappropriate.  The t-test, on the other hand, is better suited for smaller sample sizes.  The t-test returned a higher probability of finding observations as extreme as the observed data than the z-test, but neither p-value supported the null hypothesis.  Testing suggested, again, that the true mean body temperature is not 98.6 degrees F.  An interesting observation about the t-score and z-score:  the t-score suggested a distribution less spread out than the z-score.  Under normal distribution circumstances (with more than 30 values), the z-distribution is less spread out than the t-distribution.  This is likely demonstrative of the reason the z-test is less revealing for small samples.</p>\n",
    "\n",
    "<p>Further exploration of the data revealed a rationale for determining what would be considered \"normal\" body temperature.  In the plot of theoretical and actual data, it is revealed that 95% of all the data (both theoretical and actual) demonstrated close alignment with a range from 96.6-99.6 degrees F.  Given a normal distribution, approximately 95% of data is found within 2 standard devations from the mean.  That said, computing 2 standard deviations from the mean also showed alignment with the 96.6-99.6 degree F range. </p>\n",
    "\n",
    "<p>Given the data includes male and female body temperatures, further exploration into the possibility of significant differences in body temperature.  The data suggested that men and women showed different body temperature.  To determine if this difference was significant the null hypothesis that the true means were the same was tested. </p>\n",
    "\n",
    "<p>Given two data sets, a two sample test was possible.  Two test methods were applied.  First, the two sample z-test was performed.  The resulting p-value suggested the absence of significant evidence to support the null hypothesis.  When adjusted for margin of error, the high range of male body temperature looked to be fairly close to the mean female body temperature value.  Upon closer inspection, the mean female body temperature value was not within the margin of error, providing more evidence to reject the null hypothesis.</p>\n",
    "\n",
    "<p>The second test method used was a permutation test.  In this case, assumption of the null hypothesis suggested if values were permutated together, the differences between the means should also remain the same.  The p-value returned a low probability of observing values at least as extreme as the null hypothesis.  With the empirical difference of means falling outside the 95% confidence interval of simulated difference of means, the null hypothesis is not supported.</p>\n",
    "\n",
    "<p>After exploring the data and testing methods, it can be reasonably concluded that the true mean body temperature is not the conventionally accpeted 98.6 degrees F.  Given the ability to subdivde the population even more (i.e. male, female) and find significant differences, should body temperature undergo further analysis to determine if separate scales are necessary to account for these differences?  It is possible to put this question to the test.  For now, however, suffice it to say that the male and female mean body temperatures fall within the 96.6-99.6 degrees F range; suggesting it is reasonable to continue sharing the scale.</p>"
   ]
  },
  {
   "cell_type": "code",
   "execution_count": null,
   "metadata": {
    "collapsed": true
   },
   "outputs": [],
   "source": []
  }
 ],
 "metadata": {
  "kernelspec": {
   "display_name": "Python 3",
   "language": "python",
   "name": "python3"
  },
  "language_info": {
   "codemirror_mode": {
    "name": "ipython",
    "version": 3
   },
   "file_extension": ".py",
   "mimetype": "text/x-python",
   "name": "python",
   "nbconvert_exporter": "python",
   "pygments_lexer": "ipython3",
   "version": "3.6.3"
  }
 },
 "nbformat": 4,
 "nbformat_minor": 1
}
